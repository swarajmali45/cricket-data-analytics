{
 "cells": [
  {
   "cell_type": "code",
   "execution_count": null,
   "metadata": {},
   "outputs": [],
   "source": [
    "import pandas as pd\n",
    "import numpy as np\n",
    "from bs4 import BeautifulSoup as bs \n",
    "import requests\n",
    "import lxml\n",
    "\n",
    "req = requests.get(\"https://www.espncricinfo.com/records/season/team-match-results/2024-2024?trophy=89\")\n",
    "soup = bs(req.content)"
   ]
  },
  {
   "cell_type": "markdown",
   "metadata": {},
   "source": [
    "## Converting Table to DataFrame:"
   ]
  },
  {
   "cell_type": "code",
   "execution_count": null,
   "metadata": {},
   "outputs": [],
   "source": [
    "# All matches summary with match_id\n",
    "table = soup.find('table')\n",
    "df = pd.read_html(str(table))[0]\n",
    "df"
   ]
  },
  {
   "cell_type": "markdown",
   "metadata": {},
   "source": [
    "## Match Summary DataFrame"
   ]
  },
  {
   "cell_type": "code",
   "execution_count": null,
   "metadata": {},
   "outputs": [],
   "source": [
    "df['Match Date'] = pd.to_datetime(df['Match Date'])\n",
    "df['Match Date'] = df['Match Date'].dt.strftime('%d-%m-%Y')\n",
    "df.tail()"
   ]
  },
  {
   "cell_type": "code",
   "execution_count": null,
   "metadata": {},
   "outputs": [],
   "source": [
    "df.rename(columns={'Scorecard': 'match_id'}, inplace=True)\n",
    "df.rename(columns={'Match Date': 'match_date'}, inplace=True)\n",
    "df.rename(columns={'Ground': 'ground'}, inplace=True)\n",
    "df.rename(columns={'Margin': 'margin'}, inplace=True)\n",
    "df.rename(columns={'Winner': 'winner'}, inplace=True)\n",
    "df.rename(columns={'Team 2': 'team2'}, inplace=True)\n",
    "df.rename(columns={'Team 1': 'team1'}, inplace=True)\n",
    "df.head()"
   ]
  },
  {
   "cell_type": "markdown",
   "metadata": {},
   "source": [
    "## Getting Individual Match Scorecards"
   ]
  },
  {
   "cell_type": "code",
   "execution_count": null,
   "metadata": {},
   "outputs": [],
   "source": [
    "print(table.prettify())"
   ]
  },
  {
   "cell_type": "code",
   "execution_count": null,
   "metadata": {},
   "outputs": [],
   "source": [
    "links = table.find_all('a')\n",
    "links = links[1::2]\n",
    "links = [link['href'] for link in links]  \n",
    "links"
   ]
  },
  {
   "cell_type": "markdown",
   "metadata": {},
   "source": [
    "## Scraping scorecard for one Match :"
   ]
  },
  {
   "cell_type": "code",
   "execution_count": null,
   "metadata": {},
   "outputs": [],
   "source": [
    "links[0]\n",
    "link = \"https://www.espncricinfo.com\" + links[0]  \n",
    "soup1 = bs(requests.get(link).content)\n",
    "\n",
    "match = soup1.find_all('table')\n",
    "bat_innings1 = match[0]\n",
    "bowl_innings1 = match[1]\n",
    "bat_innings2 = match[2]\n",
    "bowl_innings2 = match[3]"
   ]
  },
  {
   "cell_type": "markdown",
   "metadata": {},
   "source": [
    "### For batting innings 1"
   ]
  },
  {
   "cell_type": "code",
   "execution_count": null,
   "metadata": {},
   "outputs": [],
   "source": [
    "df = pd.read_html(str(bat_innings1))[0]\n",
    "df.drop(columns=['Unnamed: 8', 'Unnamed: 9', 'M'], inplace=True)\n",
    "df.dropna(axis=0, inplace=True)\n",
    "\n",
    "# Renaming the columns\n",
    "df.rename(columns={'Unnamed: 1': 'out or not_out'}, inplace=True)\n",
    "\n",
    "# Creating an out or not_out column\n",
    "df['out or not_out'] = df['out or not_out'].apply(lambda x: 'not_out' if 'not' in x else 'out')\n",
    "df.dropna(inplace=True)\n",
    "\n",
    "df['6s'] = pd.to_numeric(df['6s'], errors='coerce')\n",
    "df.dropna(subset=['6s'], inplace=True)\n",
    "df"
   ]
  },
  {
   "cell_type": "markdown",
   "metadata": {},
   "source": [
    "### For bowling innings 1"
   ]
  },
  {
   "cell_type": "code",
   "execution_count": null,
   "metadata": {},
   "outputs": [],
   "source": [
    "df2 = pd.read_html(str(bowl_innings1))[0]\n",
    "\n",
    "# Converting R columns to integer and dropping the rows with non numeric values\n",
    "df2['R'] = pd.to_numeric(df2['R'], errors='coerce')\n",
    "df2.dropna(subset=['R'], inplace=True)\n",
    "df2"
   ]
  },
  {
   "cell_type": "markdown",
   "metadata": {},
   "source": [
    "### For batting innings 2"
   ]
  },
  {
   "cell_type": "code",
   "execution_count": null,
   "metadata": {},
   "outputs": [],
   "source": [
    "df3 = pd.read_html(str(bat_innings2))[0]\n",
    "df3.drop(columns=['Unnamed: 8', 'Unnamed: 9', 'M'], inplace=True)\n",
    "df3.dropna(axis=0, inplace=True)\n",
    "\n",
    "# Creating an out or not_out column\n",
    "df3['out or not_out'] = df3['out or not_out'].apply(lambda x: 'not_out' if 'not' in x else 'out')\n",
    "df3.dropna(inplace=True)\n",
    "\n",
    "df3['sixes'] = pd.to_numeric(df3['sixes'], errors='coerce')\n",
    "df3.dropna(subset=['sixes'], inplace=True)\n",
    "df3"
   ]
  },
  {
   "cell_type": "markdown",
   "metadata": {},
   "source": [
    "### For bowling innings 2"
   ]
  },
  {
   "cell_type": "code",
   "execution_count": null,
   "metadata": {},
   "outputs": [],
   "source": [
    "df4 = pd.read_html(str(bowl_innings2))[0]\n",
    "\n",
    "# Converting R columns to integer and dropping the rows with non numeric values\n",
    "df4['R'] = pd.to_numeric(df4['R'], errors='coerce')\n",
    "df4.dropna(subset=['R'], inplace=True)\n",
    "\n",
    "df4"
   ]
  },
  {
   "cell_type": "markdown",
   "metadata": {},
   "source": [
    "## Implementing the above codes for list of Links"
   ]
  },
  {
   "cell_type": "code",
   "execution_count": null,
   "metadata": {},
   "outputs": [
    {
     "data": {
      "text/html": [
       "<div>\n",
       "<style scoped>\n",
       "    .dataframe tbody tr th:only-of-type {\n",
       "        vertical-align: middle;\n",
       "    }\n",
       "\n",
       "    .dataframe tbody tr th {\n",
       "        vertical-align: top;\n",
       "    }\n",
       "\n",
       "    .dataframe thead th {\n",
       "        text-align: right;\n",
       "    }\n",
       "</style>\n",
       "<table border=\"1\" class=\"dataframe\">\n",
       "  <thead>\n",
       "    <tr style=\"text-align: right;\">\n",
       "      <th></th>\n",
       "      <th>Bowling</th>\n",
       "      <th>O</th>\n",
       "      <th>M</th>\n",
       "      <th>R</th>\n",
       "      <th>W</th>\n",
       "      <th>ECON</th>\n",
       "      <th>0s</th>\n",
       "      <th>4s</th>\n",
       "      <th>6s</th>\n",
       "      <th>WD</th>\n",
       "      <th>NB</th>\n",
       "    </tr>\n",
       "  </thead>\n",
       "  <tbody>\n",
       "    <tr>\n",
       "      <th>0</th>\n",
       "      <td>Arshdeep Singh</td>\n",
       "      <td>4</td>\n",
       "      <td>0</td>\n",
       "      <td>20.0</td>\n",
       "      <td>2</td>\n",
       "      <td>5.00</td>\n",
       "      <td>12</td>\n",
       "      <td>2</td>\n",
       "      <td>0</td>\n",
       "      <td>0</td>\n",
       "      <td>0</td>\n",
       "    </tr>\n",
       "    <tr>\n",
       "      <th>2</th>\n",
       "      <td>Jasprit Bumrah</td>\n",
       "      <td>4</td>\n",
       "      <td>0</td>\n",
       "      <td>18.0</td>\n",
       "      <td>2</td>\n",
       "      <td>4.50</td>\n",
       "      <td>14</td>\n",
       "      <td>2</td>\n",
       "      <td>0</td>\n",
       "      <td>0</td>\n",
       "      <td>0</td>\n",
       "    </tr>\n",
       "    <tr>\n",
       "      <th>4</th>\n",
       "      <td>Axar Patel</td>\n",
       "      <td>4</td>\n",
       "      <td>0</td>\n",
       "      <td>49.0</td>\n",
       "      <td>1</td>\n",
       "      <td>12.25</td>\n",
       "      <td>8</td>\n",
       "      <td>5</td>\n",
       "      <td>3</td>\n",
       "      <td>2</td>\n",
       "      <td>0</td>\n",
       "    </tr>\n",
       "    <tr>\n",
       "      <th>6</th>\n",
       "      <td>Kuldeep Yadav</td>\n",
       "      <td>4</td>\n",
       "      <td>0</td>\n",
       "      <td>45.0</td>\n",
       "      <td>0</td>\n",
       "      <td>11.25</td>\n",
       "      <td>6</td>\n",
       "      <td>3</td>\n",
       "      <td>3</td>\n",
       "      <td>0</td>\n",
       "      <td>0</td>\n",
       "    </tr>\n",
       "    <tr>\n",
       "      <th>7</th>\n",
       "      <td>Hardik Pandya</td>\n",
       "      <td>3</td>\n",
       "      <td>0</td>\n",
       "      <td>20.0</td>\n",
       "      <td>3</td>\n",
       "      <td>6.66</td>\n",
       "      <td>9</td>\n",
       "      <td>1</td>\n",
       "      <td>1</td>\n",
       "      <td>1</td>\n",
       "      <td>1</td>\n",
       "    </tr>\n",
       "    <tr>\n",
       "      <th>9</th>\n",
       "      <td>Ravindra Jadeja</td>\n",
       "      <td>1</td>\n",
       "      <td>0</td>\n",
       "      <td>12.0</td>\n",
       "      <td>0</td>\n",
       "      <td>12.00</td>\n",
       "      <td>0</td>\n",
       "      <td>0</td>\n",
       "      <td>1</td>\n",
       "      <td>0</td>\n",
       "      <td>0</td>\n",
       "    </tr>\n",
       "  </tbody>\n",
       "</table>\n",
       "</div>"
      ],
      "text/plain": [
       "           Bowling  O  M     R  W   ECON  0s 4s 6s WD NB\n",
       "0   Arshdeep Singh  4  0  20.0  2   5.00  12  2  0  0  0\n",
       "2   Jasprit Bumrah  4  0  18.0  2   4.50  14  2  0  0  0\n",
       "4       Axar Patel  4  0  49.0  1  12.25   8  5  3  2  0\n",
       "6    Kuldeep Yadav  4  0  45.0  0  11.25   6  3  3  0  0\n",
       "7    Hardik Pandya  3  0  20.0  3   6.66   9  1  1  1  1\n",
       "9  Ravindra Jadeja  1  0  12.0  0  12.00   0  0  1  0  0"
      ]
     },
     "execution_count": 72,
     "metadata": {},
     "output_type": "execute_result"
    }
   ],
   "source": [
    "links"
   ]
  }
 ],
 "metadata": {
  "kernelspec": {
   "display_name": ".venv",
   "language": "python",
   "name": "python3"
  },
  "language_info": {
   "codemirror_mode": {
    "name": "ipython",
    "version": 3
   },
   "file_extension": ".py",
   "mimetype": "text/x-python",
   "name": "python",
   "nbconvert_exporter": "python",
   "pygments_lexer": "ipython3",
   "version": "3.13.0"
  }
 },
 "nbformat": 4,
 "nbformat_minor": 2
}
