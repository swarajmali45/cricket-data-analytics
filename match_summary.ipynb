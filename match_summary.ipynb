{
  "cells": [
    {
      "cell_type": "code",
      "execution_count": 1,
      "metadata": {
        "id": "2opP5htYh93x"
      },
      "outputs": [],
      "source": [
        "import pandas as pd\n",
        "import numpy as np\n",
        "from bs4 import BeautifulSoup as bs\n",
        "import requests\n",
        "import lxml\n",
        "\n",
        "req = requests.get(\"https://www.espncricinfo.com/records/season/team-match-results/2024-2024?trophy=89\")\n",
        "soup = bs(req.content)"
      ]
    },
    {
      "cell_type": "code",
      "source": [
        "summary_table = soup.find('table')\n",
        "summary_df = pd.read_html(str(summary_table))[0]"
      ],
      "metadata": {
        "colab": {
          "base_uri": "https://localhost:8080/"
        },
        "id": "iLjelR9ZiHHf",
        "outputId": "8abf8fc3-b88b-4e27-f764-e592028b7255"
      },
      "execution_count": 9,
      "outputs": [
        {
          "output_type": "stream",
          "name": "stderr",
          "text": [
            "<ipython-input-9-77dd619802d6>:2: FutureWarning: Passing literal html to 'read_html' is deprecated and will be removed in a future version. To read from a literal string, wrap it in a 'StringIO' object.\n",
            "  summary_df = pd.read_html(str(summary_table))[0]\n"
          ]
        }
      ]
    },
    {
      "cell_type": "markdown",
      "source": [
        "# Getting Individual Matches"
      ],
      "metadata": {
        "id": "RNcNWwcmj4Te"
      }
    },
    {
      "cell_type": "code",
      "source": [
        "# Creating an array containing the links of scorecards of all matches\n",
        "match_links = summary_table.find_all('a',)\n",
        "\n",
        "href_list = []\n",
        "for link in match_links:\n",
        "  href = link.get('href')\n",
        "  href_list.append(href)\n",
        "\n",
        "links = href_list[1::2]"
      ],
      "metadata": {
        "id": "3h0QfTKqj_Mm"
      },
      "execution_count": null,
      "outputs": []
    },
    {
      "cell_type": "markdown",
      "source": [
        "# First Match Scorecard:"
      ],
      "metadata": {
        "id": "MiRCZnCJnf2I"
      }
    },
    {
      "cell_type": "code",
      "source": [],
      "metadata": {
        "id": "1YWsEukcnei0"
      },
      "execution_count": null,
      "outputs": []
    }
  ],
  "metadata": {
    "kernelspec": {
      "display_name": ".venv",
      "language": "python",
      "name": "python3"
    },
    "language_info": {
      "codemirror_mode": {
        "name": "ipython",
        "version": 3
      },
      "file_extension": ".py",
      "mimetype": "text/x-python",
      "name": "python",
      "nbconvert_exporter": "python",
      "pygments_lexer": "ipython3",
      "version": "3.13.0"
    },
    "colab": {
      "provenance": [],
      "toc_visible": true
    }
  },
  "nbformat": 4,
  "nbformat_minor": 0
}